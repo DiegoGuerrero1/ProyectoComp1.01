{
  "nbformat": 4,
  "nbformat_minor": 0,
  "metadata": {
    "colab": {
      "name": "SMTPLIB.ipynb",
      "provenance": [],
      "authorship_tag": "ABX9TyNPFozrt1OhwMSi+RK4BTs+",
      "include_colab_link": true
    },
    "kernelspec": {
      "name": "python3",
      "display_name": "Python 3"
    },
    "language_info": {
      "name": "python"
    }
  },
  "cells": [
    {
      "cell_type": "markdown",
      "metadata": {
        "id": "view-in-github",
        "colab_type": "text"
      },
      "source": [
        "<a href=\"https://colab.research.google.com/github/IvanOlvera25/2022-1-Comp-I/blob/main/SistemaNotificaciones.ipynb\" target=\"_parent\"><img src=\"https://colab.research.google.com/assets/colab-badge.svg\" alt=\"Open In Colab\"/></a>"
      ]
    },
    {
      "cell_type": "markdown",
      "metadata": {
        "id": "1Tk9Bk4jh7h8"
      },
      "source": [
        "#Sistema de notificaciones"
      ]
    },
    {
      "cell_type": "code",
      "metadata": {
        "id": "zuNVcY23Z9V9"
      },
      "source": [
        "import getpass\n",
        "print(\"Para acceder favor de ingresar tus datos correctamente (tienes 3 intentos)\")\n",
        "contador = 1\n",
        "while contador <=3:\n",
        "  usuario = input(\"Ingresa tu nombre de usuario: \")\n",
        "  contraseña = getpass.getpass(\"Ingresa tu contraseña: \")\n",
        "  if usuario == \"ivan\"  and contraseña == \"grocery\":\n",
        "    print(\"Bienvenid@ al sistema de notificaciones de 'Grocery'\")\n",
        "    #Importamos todas las librerías necesarias\n",
        "    import pandas as pd\n",
        "    from google.colab import files\n",
        "    import time\n",
        "    from datetime import datetime\n",
        "    from datetime import timedelta\n",
        "    import smtplib\n",
        "    from email.mime.text import MIMEText  \n",
        "    #Lo primero es subir y leer nuestro archivo csv\n",
        "    print(\"Favor de elegir el inventario a usar\")\n",
        "    files.upload() \n",
        "    inv = pd.read_csv(\"/content/inventory.csv\")\n",
        "    #Declaramos una variable con la fecha del día de hoy\n",
        "    x = time.strftime(\"%d/%m/%Y\")\n",
        "    #Con la librería datetime podemos hacer operaciones con las fechas, por lo que creamos una función que le sume 7 días a la fecha actual y le asignamos una variable\n",
        "    Hoy = datetime.now()\n",
        "    En_una_semana = Hoy + timedelta(days=7)\n",
        "    y = En_una_semana.strftime(\"%d/%m/%Y\")\n",
        "    #Hacemos un subset de nombres y fecha de caducidad para poder hacer las funciones\n",
        "    invN = inv.sort_values(\"Nombre\")\n",
        "    invC = inv.sort_values(\"Caducidad\")\n",
        "    #Creamos nuestra variable con el nombre y id de nuestro producto por caducar hoy\n",
        "    co = invC[invC[\"Caducidad\"] == x]\n",
        "    ch = str(co[[\"Nombre\",\"id\"]])\n",
        "    #Ahora volvemos a hacer  lo mismo para nuestro producto que caduca en una semana\n",
        "    ce = invC[invC[\"Caducidad\"] == y]\n",
        "    cE = str(ce[[\"Nombre\",\"id\"]])\n",
        "    #Ahora crearemos un subset con la suma de los valores repetidos en la columna Nombre\n",
        "    reps = inv[\"Nombre\"].value_counts()\n",
        "    #Creamos el Dataframe para poder iterar por columnas\n",
        "    rep2 = reps.rename_axis(\"Nombres\")\n",
        "    rep3 = rep2.reset_index()\n",
        "    #Creamos nuestra variable con los productos con un inv menor a 2\n",
        "    rp = rep3[rep3[\"Nombre\"] < 2]\n",
        "    rpn = str(rp[\"Nombres\"])\n",
        "    #Ahora accedemos al servidor \n",
        "    server=smtplib.SMTP('smtp.gmail.com',587)\n",
        "    server.starttls()\n",
        "    server.login(EMAIL,PASSWORD)\n",
        "    #Pedimos al usuario a que correo le enviaremos las alertas\n",
        "    TO = input(\"¿A quien le vamos a enviar el correo? \")\n",
        "    #Creamos los mensajes o correos predeterminados para cada caso\n",
        "    message=MIMEText(\"Hay poco inventario del producto:\\n\" + rpn)\n",
        "    message[\"From\"]=EMAIL\n",
        "    message[\"To\"]=TO\n",
        "    message[\"Subject\"]=\"Solo queda una unidad de este producto!\"\n",
        "\n",
        "    message3=MIMEText(\"Precaución! Hoy caduca:\\n\" + ch)\n",
        "    message3[\"From\"]=EMAIL\n",
        "    message3[\"To\"]=TO\n",
        "    message3[\"Subject\"]=\"Hay un producto a punto de caducar\"\n",
        "\n",
        "    message2=MIMEText(\"Este producto caduca en una semana:\\n\" + cE)\n",
        "    message2[\"From\"]=EMAIL\n",
        "    message2[\"To\"]=TO\n",
        "    message2[\"Subject\"]=\"Hay un producto que caduca en una semana!\"\n",
        "\n",
        "    #Ya teniendo los mensajes llamamos a la funciones de cada alerta\n",
        "    AlertaHoy(inv)\n",
        "    AlertaSemana(inv)\n",
        "    AlertaPoco(inv)\n",
        "    print(\"Las alertas ya han sido enviadas\")\n",
        "    break\n",
        "  else:\n",
        "    print(\"Los datos son incorrectos\")\n",
        "    if contador == 3:\n",
        "      print(\"Comunicate con el administrador, has llegado al numero maximo de intentos\")\n",
        "    contador = contador +1"
      ],
      "execution_count": null,
      "outputs": []
    },
    {
      "cell_type": "code",
      "metadata": {
        "id": "ggdB_8j-i-tw"
      },
      "source": [
        "def AlertaHoy(inv):\n",
        "  for i in invC[\"Caducidad\"]:\n",
        "    if i == x:\n",
        "      server.sendmail(EMAIL,TO,message3.as_string())\n",
        "  return\n",
        "def AlertaSemana(inv):\n",
        "  for i in invC[\"Caducidad\"]:\n",
        "    if i == y:\n",
        "      server.sendmail(EMAIL,TO,message2.as_string())\n",
        "  return\n",
        "def AlertaPoco(inv):\n",
        "  for i in rep3[\"Nombre\"]:\n",
        "    if i < 2:\n",
        "      server.sendmail(EMAIL,TO,message.as_string())\n",
        "  return \n"
      ],
      "execution_count": 33,
      "outputs": []
    },
    {
      "cell_type": "code",
      "metadata": {
        "id": "L5nbP2VXbr2R"
      },
      "source": [
        "PASSWORD = \"Smtplib25@\"\n",
        "EMAIL = \"compubot25@gmail.com\""
      ],
      "execution_count": 6,
      "outputs": []
    },
    {
      "cell_type": "code",
      "metadata": {
        "id": "SoITC8Whc7iH"
      },
      "source": [
        "reps"
      ],
      "execution_count": null,
      "outputs": []
    }
  ]
}