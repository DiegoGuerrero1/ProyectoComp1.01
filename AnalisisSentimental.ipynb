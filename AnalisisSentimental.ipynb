{
  "nbformat": 4,
  "nbformat_minor": 0,
  "metadata": {
    "colab": {
      "name": "Untitled2.ipynb",
      "provenance": [],
      "collapsed_sections": [],
      "toc_visible": true,
      "authorship_tag": "ABX9TyOeU2qShmZepyu9tbxJcOXE",
      "include_colab_link": true
    },
    "kernelspec": {
      "name": "python3",
      "display_name": "Python 3"
    },
    "language_info": {
      "name": "python"
    }
  },
  "cells": [
    {
      "cell_type": "markdown",
      "metadata": {
        "id": "view-in-github",
        "colab_type": "text"
      },
      "source": [
        "<a href=\"https://colab.research.google.com/github/IvanOlvera25/2022-1-Comp-I/blob/main/AnalisisSentimental.ipynb\" target=\"_parent\"><img src=\"https://colab.research.google.com/assets/colab-badge.svg\" alt=\"Open In Colab\"/></a>"
      ]
    },
    {
      "cell_type": "markdown",
      "metadata": {
        "id": "WpnE8JEBCMzR"
      },
      "source": [
        "#Método para limpiar el texto y realizar el sentiment analysis\n",
        "1. Importamos nuestras librerias "
      ]
    },
    {
      "cell_type": "code",
      "metadata": {
        "id": "pBuzwJcACxbK"
      },
      "source": [
        "import tweepy\n",
        "from textblob import TextBlob\n",
        "import pandas as pd\n",
        "import numpy as np\n",
        "import re\n",
        "import matplotlib.pyplot as plt \n",
        "plt.style.use('fivethirtyeight')\n"
      ],
      "execution_count": 2,
      "outputs": []
    },
    {
      "cell_type": "markdown",
      "metadata": {
        "id": "Nx_jkpKyCbBq"
      },
      "source": [
        "2. Importamos nuestra base de datos como un csv\n",
        "\n"
      ]
    },
    {
      "cell_type": "code",
      "metadata": {
        "id": "8UcNphHCDvcI"
      },
      "source": [
        "from google.colab import files\n",
        "files.upload()\n",
        "\n"
      ],
      "execution_count": null,
      "outputs": []
    },
    {
      "cell_type": "code",
      "metadata": {
        "id": "f924dGigsEKr"
      },
      "source": [
        "dta = pd.read_csv(\"/content/2019Tweets.csv\")\n",
        "dta.head()\n"
      ],
      "execution_count": null,
      "outputs": []
    },
    {
      "cell_type": "markdown",
      "metadata": {
        "id": "isN94Y7zJiN6"
      },
      "source": [
        "Ahora crearemos un subset con nomás las columnas de \"Date\" y \"Body\""
      ]
    },
    {
      "cell_type": "code",
      "metadata": {
        "id": "5HMmDQOmJsop"
      },
      "source": [
        "dta2 = dta[[\"Date\", \"body\"]]"
      ],
      "execution_count": 8,
      "outputs": []
    },
    {
      "cell_type": "code",
      "metadata": {
        "colab": {
          "base_uri": "https://localhost:8080/",
          "height": 143
        },
        "id": "o5D9PWQRKCl_",
        "outputId": "c082173a-163a-4b8b-af6b-39955027030f"
      },
      "source": [
        "dta2.head(3)"
      ],
      "execution_count": 9,
      "outputs": [
        {
          "output_type": "execute_result",
          "data": {
            "text/html": [
              "<div>\n",
              "<style scoped>\n",
              "    .dataframe tbody tr th:only-of-type {\n",
              "        vertical-align: middle;\n",
              "    }\n",
              "\n",
              "    .dataframe tbody tr th {\n",
              "        vertical-align: top;\n",
              "    }\n",
              "\n",
              "    .dataframe thead th {\n",
              "        text-align: right;\n",
              "    }\n",
              "</style>\n",
              "<table border=\"1\" class=\"dataframe\">\n",
              "  <thead>\n",
              "    <tr style=\"text-align: right;\">\n",
              "      <th></th>\n",
              "      <th>Date</th>\n",
              "      <th>body</th>\n",
              "    </tr>\n",
              "  </thead>\n",
              "  <tbody>\n",
              "    <tr>\n",
              "      <th>0</th>\n",
              "      <td>2019-01-02</td>\n",
              "      <td>$AMZN $AAPL $BA  $MA  $SPY  Live stream Tonigh...</td>\n",
              "    </tr>\n",
              "    <tr>\n",
              "      <th>1</th>\n",
              "      <td>2019-01-02</td>\n",
              "      <td>$AMZN $SPY $BA $AAPL todays action in the mark...</td>\n",
              "    </tr>\n",
              "    <tr>\n",
              "      <th>2</th>\n",
              "      <td>2019-01-02</td>\n",
              "      <td>Inquiring minds want to know.  Is @jlebenthal ...</td>\n",
              "    </tr>\n",
              "  </tbody>\n",
              "</table>\n",
              "</div>"
            ],
            "text/plain": [
              "         Date                                               body\n",
              "0  2019-01-02  $AMZN $AAPL $BA  $MA  $SPY  Live stream Tonigh...\n",
              "1  2019-01-02  $AMZN $SPY $BA $AAPL todays action in the mark...\n",
              "2  2019-01-02  Inquiring minds want to know.  Is @jlebenthal ..."
            ]
          },
          "metadata": {},
          "execution_count": 9
        }
      ]
    },
    {
      "cell_type": "markdown",
      "metadata": {
        "id": "GKEz2tNTISzl"
      },
      "source": [
        "Ahora que ya leímos la base de datos vamos a crear una función que limpie el texto"
      ]
    },
    {
      "cell_type": "code",
      "metadata": {
        "id": "TCpoi7K3-0e_"
      },
      "source": [
        "def cleanTwt(twt):\n",
        "  twt = re.sub('#apple', 'apple', twt)  \n",
        "  twt = re.sub('#Apple', 'Apple', twt) \n",
        "  twt = re.sub('#[A-Za-z0-9]+', '', twt)\n",
        "  twt = re.sub('\\\\n', '', twt)\n",
        "  twt = re.sub('https?:\\/\\/\\S+', '', twt)\n",
        "  return twt"
      ],
      "execution_count": 5,
      "outputs": []
    },
    {
      "cell_type": "markdown",
      "metadata": {
        "id": "lFXkxPGUKKp5"
      },
      "source": [
        "Aplicamos la función a nuestro subset a la columna de \"body\" y creamos una nueva columna con el texto limpio"
      ]
    },
    {
      "cell_type": "code",
      "metadata": {
        "colab": {
          "base_uri": "https://localhost:8080/",
          "height": 248
        },
        "id": "IpZa45WyD49u",
        "outputId": "7690f578-118e-47c7-f9ad-66ecee64602a"
      },
      "source": [
        "dta2['Cleaned_Tweets'] = dta2['body'].apply(cleanTwt)\n",
        "dta2.head(3)"
      ],
      "execution_count": 10,
      "outputs": [
        {
          "output_type": "stream",
          "name": "stderr",
          "text": [
            "/usr/local/lib/python3.7/dist-packages/ipykernel_launcher.py:1: SettingWithCopyWarning: \n",
            "A value is trying to be set on a copy of a slice from a DataFrame.\n",
            "Try using .loc[row_indexer,col_indexer] = value instead\n",
            "\n",
            "See the caveats in the documentation: https://pandas.pydata.org/pandas-docs/stable/user_guide/indexing.html#returning-a-view-versus-a-copy\n",
            "  \"\"\"Entry point for launching an IPython kernel.\n"
          ]
        },
        {
          "output_type": "execute_result",
          "data": {
            "text/html": [
              "<div>\n",
              "<style scoped>\n",
              "    .dataframe tbody tr th:only-of-type {\n",
              "        vertical-align: middle;\n",
              "    }\n",
              "\n",
              "    .dataframe tbody tr th {\n",
              "        vertical-align: top;\n",
              "    }\n",
              "\n",
              "    .dataframe thead th {\n",
              "        text-align: right;\n",
              "    }\n",
              "</style>\n",
              "<table border=\"1\" class=\"dataframe\">\n",
              "  <thead>\n",
              "    <tr style=\"text-align: right;\">\n",
              "      <th></th>\n",
              "      <th>Date</th>\n",
              "      <th>body</th>\n",
              "      <th>Cleaned_Tweets</th>\n",
              "    </tr>\n",
              "  </thead>\n",
              "  <tbody>\n",
              "    <tr>\n",
              "      <th>0</th>\n",
              "      <td>2019-01-02</td>\n",
              "      <td>$AMZN $AAPL $BA  $MA  $SPY  Live stream Tonigh...</td>\n",
              "      <td>$AMZN $AAPL $BA  $MA  $SPY  Live stream Tonigh...</td>\n",
              "    </tr>\n",
              "    <tr>\n",
              "      <th>1</th>\n",
              "      <td>2019-01-02</td>\n",
              "      <td>$AMZN $SPY $BA $AAPL todays action in the mark...</td>\n",
              "      <td>$AMZN $SPY $BA $AAPL todays action in the mark...</td>\n",
              "    </tr>\n",
              "    <tr>\n",
              "      <th>2</th>\n",
              "      <td>2019-01-02</td>\n",
              "      <td>Inquiring minds want to know.  Is @jlebenthal ...</td>\n",
              "      <td>Inquiring minds want to know.  Is @jlebenthal ...</td>\n",
              "    </tr>\n",
              "  </tbody>\n",
              "</table>\n",
              "</div>"
            ],
            "text/plain": [
              "         Date  ...                                     Cleaned_Tweets\n",
              "0  2019-01-02  ...  $AMZN $AAPL $BA  $MA  $SPY  Live stream Tonigh...\n",
              "1  2019-01-02  ...  $AMZN $SPY $BA $AAPL todays action in the mark...\n",
              "2  2019-01-02  ...  Inquiring minds want to know.  Is @jlebenthal ...\n",
              "\n",
              "[3 rows x 3 columns]"
            ]
          },
          "metadata": {},
          "execution_count": 10
        }
      ]
    },
    {
      "cell_type": "markdown",
      "metadata": {
        "id": "goXIC3mBKjnN"
      },
      "source": [
        "Creamos un nuevo subset con solo la fecha y el texto limpio"
      ]
    },
    {
      "cell_type": "code",
      "metadata": {
        "colab": {
          "base_uri": "https://localhost:8080/",
          "height": 143
        },
        "id": "tcUTL_vyKi08",
        "outputId": "17957adb-df91-4efb-a659-5c7821f24e20"
      },
      "source": [
        "dta3 = dta2[[\"Date\", \"Cleaned_Tweets\"]]\n",
        "dta.head(3)"
      ],
      "execution_count": 11,
      "outputs": [
        {
          "output_type": "execute_result",
          "data": {
            "text/html": [
              "<div>\n",
              "<style scoped>\n",
              "    .dataframe tbody tr th:only-of-type {\n",
              "        vertical-align: middle;\n",
              "    }\n",
              "\n",
              "    .dataframe tbody tr th {\n",
              "        vertical-align: top;\n",
              "    }\n",
              "\n",
              "    .dataframe thead th {\n",
              "        text-align: right;\n",
              "    }\n",
              "</style>\n",
              "<table border=\"1\" class=\"dataframe\">\n",
              "  <thead>\n",
              "    <tr style=\"text-align: right;\">\n",
              "      <th></th>\n",
              "      <th>Unnamed: 0</th>\n",
              "      <th>tweet_id</th>\n",
              "      <th>writer</th>\n",
              "      <th>Date</th>\n",
              "      <th>body</th>\n",
              "      <th>comment_num</th>\n",
              "      <th>retweet_num</th>\n",
              "      <th>like_num</th>\n",
              "    </tr>\n",
              "  </thead>\n",
              "  <tbody>\n",
              "    <tr>\n",
              "      <th>0</th>\n",
              "      <td>1</td>\n",
              "      <td>1.080492e+18</td>\n",
              "      <td>Sandro_power</td>\n",
              "      <td>2019-01-02</td>\n",
              "      <td>$AMZN $AAPL $BA  $MA  $SPY  Live stream Tonigh...</td>\n",
              "      <td>12</td>\n",
              "      <td>54</td>\n",
              "      <td>64</td>\n",
              "    </tr>\n",
              "    <tr>\n",
              "      <th>1</th>\n",
              "      <td>2</td>\n",
              "      <td>1.080581e+18</td>\n",
              "      <td>Sandro_power</td>\n",
              "      <td>2019-01-02</td>\n",
              "      <td>$AMZN $SPY $BA $AAPL todays action in the mark...</td>\n",
              "      <td>6</td>\n",
              "      <td>52</td>\n",
              "      <td>65</td>\n",
              "    </tr>\n",
              "    <tr>\n",
              "      <th>2</th>\n",
              "      <td>3</td>\n",
              "      <td>1.080583e+18</td>\n",
              "      <td>ScottWapnerCNBC</td>\n",
              "      <td>2019-01-02</td>\n",
              "      <td>Inquiring minds want to know.  Is @jlebenthal ...</td>\n",
              "      <td>23</td>\n",
              "      <td>4</td>\n",
              "      <td>61</td>\n",
              "    </tr>\n",
              "  </tbody>\n",
              "</table>\n",
              "</div>"
            ],
            "text/plain": [
              "   Unnamed: 0      tweet_id  ... retweet_num like_num\n",
              "0           1  1.080492e+18  ...          54       64\n",
              "1           2  1.080581e+18  ...          52       65\n",
              "2           3  1.080583e+18  ...           4       61\n",
              "\n",
              "[3 rows x 8 columns]"
            ]
          },
          "metadata": {},
          "execution_count": 11
        }
      ]
    },
    {
      "cell_type": "markdown",
      "metadata": {
        "id": "X2GVO_tmKsZc"
      },
      "source": [
        "Ahora crearemos las funciones para asignar la polaridad del sentimiento (donde -1 es muy malo y 1 muy bueno) y la subjetividad. Y posteriormente, creamos 2 nuevas columnas con el nuevo puntaje."
      ]
    },
    {
      "cell_type": "code",
      "metadata": {
        "colab": {
          "base_uri": "https://localhost:8080/",
          "height": 206
        },
        "id": "bkY_8fxyLU70",
        "outputId": "55e31ee1-d91a-43f7-df5e-6ebdfdc0613c"
      },
      "source": [
        "def getSubjectivity(twt):\n",
        "  return TextBlob(twt).sentiment.subjectivity\n",
        "\n",
        "def getPolarity(twt):\n",
        "  return TextBlob(twt).sentiment.polarity\n",
        "\n",
        "dta3['Subjectivity'] = dta3['Cleaned_Tweets'].apply(getSubjectivity)\n",
        "dta3['Polarity'] = dta3['Cleaned_Tweets'].apply(getPolarity)\n",
        "\n",
        "dta3.head(5)"
      ],
      "execution_count": 12,
      "outputs": [
        {
          "output_type": "execute_result",
          "data": {
            "text/html": [
              "<div>\n",
              "<style scoped>\n",
              "    .dataframe tbody tr th:only-of-type {\n",
              "        vertical-align: middle;\n",
              "    }\n",
              "\n",
              "    .dataframe tbody tr th {\n",
              "        vertical-align: top;\n",
              "    }\n",
              "\n",
              "    .dataframe thead th {\n",
              "        text-align: right;\n",
              "    }\n",
              "</style>\n",
              "<table border=\"1\" class=\"dataframe\">\n",
              "  <thead>\n",
              "    <tr style=\"text-align: right;\">\n",
              "      <th></th>\n",
              "      <th>Date</th>\n",
              "      <th>Cleaned_Tweets</th>\n",
              "      <th>Subjectivity</th>\n",
              "      <th>Polarity</th>\n",
              "    </tr>\n",
              "  </thead>\n",
              "  <tbody>\n",
              "    <tr>\n",
              "      <th>0</th>\n",
              "      <td>2019-01-02</td>\n",
              "      <td>$AMZN $AAPL $BA  $MA  $SPY  Live stream Tonigh...</td>\n",
              "      <td>0.402652</td>\n",
              "      <td>0.046970</td>\n",
              "    </tr>\n",
              "    <tr>\n",
              "      <th>1</th>\n",
              "      <td>2019-01-02</td>\n",
              "      <td>$AMZN $SPY $BA $AAPL todays action in the mark...</td>\n",
              "      <td>0.335714</td>\n",
              "      <td>0.333766</td>\n",
              "    </tr>\n",
              "    <tr>\n",
              "      <th>2</th>\n",
              "      <td>2019-01-02</td>\n",
              "      <td>Inquiring minds want to know.  Is @jlebenthal ...</td>\n",
              "      <td>0.000000</td>\n",
              "      <td>0.000000</td>\n",
              "    </tr>\n",
              "    <tr>\n",
              "      <th>3</th>\n",
              "      <td>2019-01-02</td>\n",
              "      <td>Apple shares down 8 percent in extended trade ...</td>\n",
              "      <td>0.288889</td>\n",
              "      <td>-0.155556</td>\n",
              "    </tr>\n",
              "    <tr>\n",
              "      <th>4</th>\n",
              "      <td>2019-01-02</td>\n",
              "      <td>Lessons/conclusions from $AAPL:* Be skeptical ...</td>\n",
              "      <td>0.750000</td>\n",
              "      <td>0.050000</td>\n",
              "    </tr>\n",
              "  </tbody>\n",
              "</table>\n",
              "</div>"
            ],
            "text/plain": [
              "         Date  ...  Polarity\n",
              "0  2019-01-02  ...  0.046970\n",
              "1  2019-01-02  ...  0.333766\n",
              "2  2019-01-02  ...  0.000000\n",
              "3  2019-01-02  ... -0.155556\n",
              "4  2019-01-02  ...  0.050000\n",
              "\n",
              "[5 rows x 4 columns]"
            ]
          },
          "metadata": {},
          "execution_count": 12
        }
      ]
    },
    {
      "cell_type": "markdown",
      "metadata": {
        "id": "iqcerzUXLicX"
      },
      "source": [
        "Ahora crearemos una función para asignar un sentimiento a los tweets. Donde si la polaridad es >0 es negativo, = 0 es neutro y <0 es positivo."
      ]
    },
    {
      "cell_type": "code",
      "metadata": {
        "id": "oPkpKe25L7rZ"
      },
      "source": [
        "def getSentiment(score):\n",
        "  if score < 0:\n",
        "    return 'Negative'\n",
        "  elif score == 0:\n",
        "    return 'Neutral'\n",
        "  else:\n",
        "    return 'Positive'"
      ],
      "execution_count": 13,
      "outputs": []
    },
    {
      "cell_type": "markdown",
      "metadata": {
        "id": "3McYsucWMCbT"
      },
      "source": [
        "Posteriormente creamos una nueva columna con el sentimiento de cada tweet."
      ]
    },
    {
      "cell_type": "code",
      "metadata": {
        "colab": {
          "base_uri": "https://localhost:8080/",
          "height": 206
        },
        "id": "wMx18_fvMJoR",
        "outputId": "87800820-58b9-4df9-9be8-f86d79cad625"
      },
      "source": [
        "dta3['Sentiment'] = dta3['Polarity'].apply(getSentiment)\n",
        "dta3.head(5)"
      ],
      "execution_count": 15,
      "outputs": [
        {
          "output_type": "execute_result",
          "data": {
            "text/html": [
              "<div>\n",
              "<style scoped>\n",
              "    .dataframe tbody tr th:only-of-type {\n",
              "        vertical-align: middle;\n",
              "    }\n",
              "\n",
              "    .dataframe tbody tr th {\n",
              "        vertical-align: top;\n",
              "    }\n",
              "\n",
              "    .dataframe thead th {\n",
              "        text-align: right;\n",
              "    }\n",
              "</style>\n",
              "<table border=\"1\" class=\"dataframe\">\n",
              "  <thead>\n",
              "    <tr style=\"text-align: right;\">\n",
              "      <th></th>\n",
              "      <th>Date</th>\n",
              "      <th>Cleaned_Tweets</th>\n",
              "      <th>Subjectivity</th>\n",
              "      <th>Polarity</th>\n",
              "      <th>Sentiment</th>\n",
              "    </tr>\n",
              "  </thead>\n",
              "  <tbody>\n",
              "    <tr>\n",
              "      <th>0</th>\n",
              "      <td>2019-01-02</td>\n",
              "      <td>$AMZN $AAPL $BA  $MA  $SPY  Live stream Tonigh...</td>\n",
              "      <td>0.402652</td>\n",
              "      <td>0.046970</td>\n",
              "      <td>Positive</td>\n",
              "    </tr>\n",
              "    <tr>\n",
              "      <th>1</th>\n",
              "      <td>2019-01-02</td>\n",
              "      <td>$AMZN $SPY $BA $AAPL todays action in the mark...</td>\n",
              "      <td>0.335714</td>\n",
              "      <td>0.333766</td>\n",
              "      <td>Positive</td>\n",
              "    </tr>\n",
              "    <tr>\n",
              "      <th>2</th>\n",
              "      <td>2019-01-02</td>\n",
              "      <td>Inquiring minds want to know.  Is @jlebenthal ...</td>\n",
              "      <td>0.000000</td>\n",
              "      <td>0.000000</td>\n",
              "      <td>Neutral</td>\n",
              "    </tr>\n",
              "    <tr>\n",
              "      <th>3</th>\n",
              "      <td>2019-01-02</td>\n",
              "      <td>Apple shares down 8 percent in extended trade ...</td>\n",
              "      <td>0.288889</td>\n",
              "      <td>-0.155556</td>\n",
              "      <td>Negative</td>\n",
              "    </tr>\n",
              "    <tr>\n",
              "      <th>4</th>\n",
              "      <td>2019-01-02</td>\n",
              "      <td>Lessons/conclusions from $AAPL:* Be skeptical ...</td>\n",
              "      <td>0.750000</td>\n",
              "      <td>0.050000</td>\n",
              "      <td>Positive</td>\n",
              "    </tr>\n",
              "  </tbody>\n",
              "</table>\n",
              "</div>"
            ],
            "text/plain": [
              "         Date  ... Sentiment\n",
              "0  2019-01-02  ...  Positive\n",
              "1  2019-01-02  ...  Positive\n",
              "2  2019-01-02  ...   Neutral\n",
              "3  2019-01-02  ...  Negative\n",
              "4  2019-01-02  ...  Positive\n",
              "\n",
              "[5 rows x 5 columns]"
            ]
          },
          "metadata": {},
          "execution_count": 15
        }
      ]
    }
  ]
}